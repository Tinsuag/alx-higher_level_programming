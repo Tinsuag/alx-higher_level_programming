{
 "cells": [
  {
   "cell_type": "code",
   "execution_count": 14,
   "metadata": {},
   "outputs": [],
   "source": [
    "class robot:\n",
    "    def __init__(self, name, color, age):\n",
    "        self.name = name\n",
    "        self.color = color\n",
    "        self.age = age\n",
    "    def introduction(self):\n",
    "        print(\"the name is \" + self.name)"
   ]
  },
  {
   "cell_type": "code",
   "execution_count": 17,
   "metadata": {},
   "outputs": [],
   "source": [
    "\"\"\"\n",
    "r1 = robot()\n",
    "r1.name = \"Tinsae\"\n",
    "r1.color = \"black\"\n",
    "r1.height = 172\n",
    "\n",
    "r2 = robot()\n",
    "r2.name = \"Emish\"\n",
    "r2.color = \"white\"\n",
    "r2.height = 150\n",
    "\"\"\"\n",
    "r1 = robot(\"Tinsae\", \"Black\", 23)\n",
    "r2 = robot(\"Emu\", \"White\", 40)\n",
    "r3 = robot(\"Areg\", \"black\", 54)\n"
   ]
  },
  {
   "cell_type": "code",
   "execution_count": 18,
   "metadata": {},
   "outputs": [
    {
     "name": "stdout",
     "output_type": "stream",
     "text": [
      "the name is Tinsae\n",
      "the name is Emu\n",
      "the name is Areg\n"
     ]
    }
   ],
   "source": [
    "r1.introduction()\n",
    "r2.introduction()\n",
    "r3.introduction()\n"
   ]
  }
 ],
 "metadata": {
  "kernelspec": {
   "display_name": "Python 3",
   "language": "python",
   "name": "python3"
  },
  "language_info": {
   "codemirror_mode": {
    "name": "ipython",
    "version": 3
   },
   "file_extension": ".py",
   "mimetype": "text/x-python",
   "name": "python",
   "nbconvert_exporter": "python",
   "pygments_lexer": "ipython3",
   "version": "3.11.5"
  },
  "orig_nbformat": 4
 },
 "nbformat": 4,
 "nbformat_minor": 2
}
