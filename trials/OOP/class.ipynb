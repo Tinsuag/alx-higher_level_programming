{
 "cells": [
  {
   "cell_type": "code",
   "execution_count": null,
   "metadata": {},
   "outputs": [],
   "source": [
    "class robot:\n",
    "    def introduction(self):\n",
    "        print(\"the name is\" + self.name)"
   ]
  },
  {
   "cell_type": "code",
   "execution_count": null,
   "metadata": {},
   "outputs": [],
   "source": [
    "r1 = robot()\n",
    "r1.name = \"Tinsae\"\n",
    "r1.color = \"black\"\n",
    "r1.height = 172\n",
    "\n",
    "r2 = robot()\n",
    "r2.name = \"Emish\"\n",
    "r2.color = \"white\"\n",
    "r2.height = 150\n"
   ]
  },
  {
   "cell_type": "code",
   "execution_count": null,
   "metadata": {},
   "outputs": [],
   "source": [
    "r1.introduction()\n",
    "r2.introduction()"
   ]
  }
 ],
 "metadata": {
  "kernelspec": {
   "display_name": "Python 3",
   "language": "python",
   "name": "python3"
  },
  "language_info": {
   "name": "python",
   "version": "3.11.5"
  },
  "orig_nbformat": 4
 },
 "nbformat": 4,
 "nbformat_minor": 2
}
